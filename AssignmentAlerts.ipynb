{
  "nbformat": 4,
  "nbformat_minor": 0,
  "metadata": {
    "colab": {
      "name": "AssignmentAlerts.ipynb",
      "provenance": []
    },
    "kernelspec": {
      "display_name": "Python 3",
      "name": "python3"
    },
    "language_info": {
      "name": "python"
    }
  },
  "cells": [
    {
      "cell_type": "code",
      "metadata": {
        "colab": {
          "base_uri": "https://localhost:8080/"
        },
        "id": "utI2tLeLRuFy",
        "outputId": "77e4ce03-5ea3-4b85-9b9a-518c285b00bd"
      },
      "source": [
        "pip install canvasapi"
      ],
      "execution_count": null,
      "outputs": [
        {
          "output_type": "stream",
          "name": "stdout",
          "text": [
            "Collecting canvasapi\n",
            "  Downloading canvasapi-2.2.0.tar.gz (80 kB)\n",
            "\u001b[?25l\r\u001b[K     |████                            | 10 kB 19.7 MB/s eta 0:00:01\r\u001b[K     |████████▏                       | 20 kB 22.5 MB/s eta 0:00:01\r\u001b[K     |████████████▏                   | 30 kB 15.6 MB/s eta 0:00:01\r\u001b[K     |████████████████▎               | 40 kB 10.0 MB/s eta 0:00:01\r\u001b[K     |████████████████████▎           | 51 kB 8.6 MB/s eta 0:00:01\r\u001b[K     |████████████████████████▍       | 61 kB 7.5 MB/s eta 0:00:01\r\u001b[K     |████████████████████████████▌   | 71 kB 7.1 MB/s eta 0:00:01\r\u001b[K     |████████████████████████████████| 80 kB 3.7 MB/s \n",
            "\u001b[?25hRequirement already satisfied: pytz in /usr/local/lib/python3.7/dist-packages (from canvasapi) (2018.9)\n",
            "Requirement already satisfied: requests in /usr/local/lib/python3.7/dist-packages (from canvasapi) (2.23.0)\n",
            "Requirement already satisfied: idna<3,>=2.5 in /usr/local/lib/python3.7/dist-packages (from requests->canvasapi) (2.10)\n",
            "Requirement already satisfied: certifi>=2017.4.17 in /usr/local/lib/python3.7/dist-packages (from requests->canvasapi) (2021.10.8)\n",
            "Requirement already satisfied: urllib3!=1.25.0,!=1.25.1,<1.26,>=1.21.1 in /usr/local/lib/python3.7/dist-packages (from requests->canvasapi) (1.24.3)\n",
            "Requirement already satisfied: chardet<4,>=3.0.2 in /usr/local/lib/python3.7/dist-packages (from requests->canvasapi) (3.0.4)\n",
            "Building wheels for collected packages: canvasapi\n",
            "  Building wheel for canvasapi (setup.py) ... \u001b[?25l\u001b[?25hdone\n",
            "  Created wheel for canvasapi: filename=canvasapi-2.2.0-py3-none-any.whl size=104561 sha256=52f9b2657e10a40a138159a5ba4b3e76f9bdd65a5398453e691e18146a2bb0e0\n",
            "  Stored in directory: /root/.cache/pip/wheels/32/27/2c/c800f5f34241d1eceb9e99fc29621006d1dd679721ce7d0cd7\n",
            "Successfully built canvasapi\n",
            "Installing collected packages: canvasapi\n",
            "Successfully installed canvasapi-2.2.0\n"
          ]
        }
      ]
    },
    {
      "cell_type": "code",
      "metadata": {
        "colab": {
          "base_uri": "https://localhost:8080/"
        },
        "id": "cjMTmkNv6UXX",
        "outputId": "d0a4241a-c8cb-4892-b47c-3a6da09d7ebd"
      },
      "source": [
        "pip install plyer"
      ],
      "execution_count": null,
      "outputs": [
        {
          "output_type": "stream",
          "name": "stdout",
          "text": [
            "Collecting plyer\n",
            "  Downloading plyer-2.0.0-py2.py3-none-any.whl (131 kB)\n",
            "\u001b[?25l\r\u001b[K     |██▌                             | 10 kB 25.7 MB/s eta 0:00:01\r\u001b[K     |█████                           | 20 kB 29.0 MB/s eta 0:00:01\r\u001b[K     |███████▌                        | 30 kB 18.2 MB/s eta 0:00:01\r\u001b[K     |██████████                      | 40 kB 15.4 MB/s eta 0:00:01\r\u001b[K     |████████████▌                   | 51 kB 6.9 MB/s eta 0:00:01\r\u001b[K     |███████████████                 | 61 kB 7.3 MB/s eta 0:00:01\r\u001b[K     |█████████████████▌              | 71 kB 7.6 MB/s eta 0:00:01\r\u001b[K     |████████████████████            | 81 kB 8.5 MB/s eta 0:00:01\r\u001b[K     |██████████████████████▌         | 92 kB 8.9 MB/s eta 0:00:01\r\u001b[K     |█████████████████████████       | 102 kB 6.8 MB/s eta 0:00:01\r\u001b[K     |███████████████████████████▍    | 112 kB 6.8 MB/s eta 0:00:01\r\u001b[K     |██████████████████████████████  | 122 kB 6.8 MB/s eta 0:00:01\r\u001b[K     |████████████████████████████████| 131 kB 6.8 MB/s \n",
            "\u001b[?25hInstalling collected packages: plyer\n",
            "Successfully installed plyer-2.0.0\n"
          ]
        }
      ]
    },
    {
      "cell_type": "code",
      "metadata": {
        "id": "bTbd6-TkRxjL"
      },
      "source": [
        "from canvasapi import Canvas\n",
        "from time import sleep\n",
        "from datetime import datetime, timedelta\n",
        "import pytz\n",
        "from plyer import notification\n",
        "import matplotlib.pyplot as plt\n",
        "utc = pytz.UTC"
      ],
      "execution_count": null,
      "outputs": []
    },
    {
      "cell_type": "markdown",
      "metadata": {
        "id": "-KqGhW4j9_5N"
      },
      "source": [
        "Please Generate your personal API Token from Canvas Settings and replace the API_token with your token."
      ]
    },
    {
      "cell_type": "code",
      "metadata": {
        "id": "-XctR0G2Rzym"
      },
      "source": [
        "API_url = \"https://canvas.case.edu/\"\n",
        "\n",
        "#add the token here\n",
        "API_token = \"\"\n",
        "\n",
        "canvas = Canvas(API_url, API_token)"
      ],
      "execution_count": null,
      "outputs": []
    },
    {
      "cell_type": "code",
      "metadata": {
        "id": "Q40d6nQPIC19",
        "colab": {
          "base_uri": "https://localhost:8080/"
        },
        "outputId": "3787f938-6439-4e8b-9920-713a83b1b34f"
      },
      "source": [
        "run_program()"
      ],
      "execution_count": null,
      "outputs": [
        {
          "name": "stdout",
          "output_type": "stream",
          "text": [
            "Enter 1 for Searching a course\n",
            "Enter 2 for Searching an assignment in all the courses\n",
            "Enter 3 for Searching for assignments due in the next 7 days\n",
            "What do you want to do?1\n",
            "Enter the code of the course: 23369\n",
            "You entered 23369\n",
            "Checking if 23369 exists in your course list\n",
            "The class associated with the code exists \n",
            "The class is MATH 121 Calculus for Science and Engineering I (100/1209) (23369)\n",
            "Do you want to try another search?\n",
            "Enter y for another search and N to exitn\n",
            "You exited the search function\n",
            "Do you want to run the program again? n\n"
          ]
        }
      ]
    },
    {
      "cell_type": "code",
      "metadata": {
        "id": "4arUpKrg-o3R"
      },
      "source": [
        "\n",
        "def run_program():\n",
        "    run_again = True\n",
        "    while run_again is True:\n",
        "        print(\"Enter 1 for Searching a course\")\n",
        "        print(\"Enter 2 for Searching an assignment in all the courses\")\n",
        "        print(\"Enter 3 for Searching for assignments due in the next 7 days\")\n",
        "        user_choice = int(input(\"What do you want to do?\"))\n",
        "        \n",
        "        selection(user_choice)\n",
        "\n",
        "        inp = input(\"Do you want to run the program again? \")\n",
        "    \n",
        "        if inp.lower() in ['y', 'yes']:\n",
        "            run_again = True\n",
        "        elif inp.lower() in ['n', 'no']:\n",
        "            run_again = False\n",
        "\n",
        "def selection(user_choice):\n",
        "    if user_choice == 1:\n",
        "        search_for_course()\n",
        "    elif user_choice is 2:\n",
        "        search_for_assignment()\n",
        "    elif user_choice is 3:\n",
        "        list_of_hw = assignment_before_date()\n",
        "        print(list_of_hw)\n",
        "        print(\"Enter Y or N\")\n",
        "        visual = str(input(\"Do You want to see visualizations of assignments due in the next 7 days?\"))\n",
        "        if visual.lower() == 'y':\n",
        "            plot_bar_chart(list_of_hw)\n",
        "            plot_pychart(list_of_hw)\n",
        "        #elif visualization == 'N':\n",
        "\n"
      ],
      "execution_count": null,
      "outputs": []
    },
    {
      "cell_type": "code",
      "metadata": {
        "id": "nsNKtmM0-ozu"
      },
      "source": [
        ""
      ],
      "execution_count": null,
      "outputs": []
    },
    {
      "cell_type": "code",
      "metadata": {
        "id": "GLjPSVVORzwB",
        "colab": {
          "base_uri": "https://localhost:8080/"
        },
        "outputId": "b98570cb-255f-4314-801f-1c7f08444425"
      },
      "source": [
        "courseList = canvas.get_courses()\n",
        "for course in courseList:\n",
        "    try:\n",
        "        print(course)\n",
        "    except:\n",
        "        continue"
      ],
      "execution_count": null,
      "outputs": [
        {
          "output_type": "error",
          "ename": "InvalidAccessToken",
          "evalue": "ignored",
          "traceback": [
            "\u001b[0;31m---------------------------------------------------------------------------\u001b[0m",
            "\u001b[0;31mInvalidAccessToken\u001b[0m                        Traceback (most recent call last)",
            "\u001b[0;32m<ipython-input-8-b1bfff02176a>\u001b[0m in \u001b[0;36m<module>\u001b[0;34m()\u001b[0m\n\u001b[1;32m      1\u001b[0m \u001b[0mcourseList\u001b[0m \u001b[0;34m=\u001b[0m \u001b[0mcanvas\u001b[0m\u001b[0;34m.\u001b[0m\u001b[0mget_courses\u001b[0m\u001b[0;34m(\u001b[0m\u001b[0;34m)\u001b[0m\u001b[0;34m\u001b[0m\u001b[0;34m\u001b[0m\u001b[0m\n\u001b[0;32m----> 2\u001b[0;31m \u001b[0;32mfor\u001b[0m \u001b[0mcourse\u001b[0m \u001b[0;32min\u001b[0m \u001b[0mcourseList\u001b[0m\u001b[0;34m:\u001b[0m\u001b[0;34m\u001b[0m\u001b[0;34m\u001b[0m\u001b[0m\n\u001b[0m\u001b[1;32m      3\u001b[0m     \u001b[0;32mtry\u001b[0m\u001b[0;34m:\u001b[0m\u001b[0;34m\u001b[0m\u001b[0;34m\u001b[0m\u001b[0m\n\u001b[1;32m      4\u001b[0m         \u001b[0mprint\u001b[0m\u001b[0;34m(\u001b[0m\u001b[0mcourse\u001b[0m\u001b[0;34m)\u001b[0m\u001b[0;34m\u001b[0m\u001b[0;34m\u001b[0m\u001b[0m\n\u001b[1;32m      5\u001b[0m     \u001b[0;32mexcept\u001b[0m\u001b[0;34m:\u001b[0m\u001b[0;34m\u001b[0m\u001b[0;34m\u001b[0m\u001b[0m\n",
            "\u001b[0;32m/usr/local/lib/python3.7/dist-packages/canvasapi/paginated_list.py\u001b[0m in \u001b[0;36m__iter__\u001b[0;34m(self)\u001b[0m\n\u001b[1;32m     46\u001b[0m             \u001b[0;32myield\u001b[0m \u001b[0melement\u001b[0m\u001b[0;34m\u001b[0m\u001b[0;34m\u001b[0m\u001b[0m\n\u001b[1;32m     47\u001b[0m         \u001b[0;32mwhile\u001b[0m \u001b[0mself\u001b[0m\u001b[0;34m.\u001b[0m\u001b[0m_has_next\u001b[0m\u001b[0;34m(\u001b[0m\u001b[0;34m)\u001b[0m\u001b[0;34m:\u001b[0m\u001b[0;34m\u001b[0m\u001b[0;34m\u001b[0m\u001b[0m\n\u001b[0;32m---> 48\u001b[0;31m             \u001b[0mnew_elements\u001b[0m \u001b[0;34m=\u001b[0m \u001b[0mself\u001b[0m\u001b[0;34m.\u001b[0m\u001b[0m_grow\u001b[0m\u001b[0;34m(\u001b[0m\u001b[0;34m)\u001b[0m\u001b[0;34m\u001b[0m\u001b[0;34m\u001b[0m\u001b[0m\n\u001b[0m\u001b[1;32m     49\u001b[0m             \u001b[0;32mfor\u001b[0m \u001b[0melement\u001b[0m \u001b[0;32min\u001b[0m \u001b[0mnew_elements\u001b[0m\u001b[0;34m:\u001b[0m\u001b[0;34m\u001b[0m\u001b[0;34m\u001b[0m\u001b[0m\n\u001b[1;32m     50\u001b[0m                 \u001b[0;32myield\u001b[0m \u001b[0melement\u001b[0m\u001b[0;34m\u001b[0m\u001b[0;34m\u001b[0m\u001b[0m\n",
            "\u001b[0;32m/usr/local/lib/python3.7/dist-packages/canvasapi/paginated_list.py\u001b[0m in \u001b[0;36m_grow\u001b[0;34m(self)\u001b[0m\n\u001b[1;32m     90\u001b[0m \u001b[0;34m\u001b[0m\u001b[0m\n\u001b[1;32m     91\u001b[0m     \u001b[0;32mdef\u001b[0m \u001b[0m_grow\u001b[0m\u001b[0;34m(\u001b[0m\u001b[0mself\u001b[0m\u001b[0;34m)\u001b[0m\u001b[0;34m:\u001b[0m\u001b[0;34m\u001b[0m\u001b[0;34m\u001b[0m\u001b[0m\n\u001b[0;32m---> 92\u001b[0;31m         \u001b[0mnew_elements\u001b[0m \u001b[0;34m=\u001b[0m \u001b[0mself\u001b[0m\u001b[0;34m.\u001b[0m\u001b[0m_get_next_page\u001b[0m\u001b[0;34m(\u001b[0m\u001b[0;34m)\u001b[0m\u001b[0;34m\u001b[0m\u001b[0;34m\u001b[0m\u001b[0m\n\u001b[0m\u001b[1;32m     93\u001b[0m         \u001b[0mself\u001b[0m\u001b[0;34m.\u001b[0m\u001b[0m_elements\u001b[0m \u001b[0;34m+=\u001b[0m \u001b[0mnew_elements\u001b[0m\u001b[0;34m\u001b[0m\u001b[0;34m\u001b[0m\u001b[0m\n\u001b[1;32m     94\u001b[0m         \u001b[0;32mreturn\u001b[0m \u001b[0mnew_elements\u001b[0m\u001b[0;34m\u001b[0m\u001b[0;34m\u001b[0m\u001b[0m\n",
            "\u001b[0;32m/usr/local/lib/python3.7/dist-packages/canvasapi/paginated_list.py\u001b[0m in \u001b[0;36m_get_next_page\u001b[0;34m(self)\u001b[0m\n\u001b[1;32m     55\u001b[0m     \u001b[0;32mdef\u001b[0m \u001b[0m_get_next_page\u001b[0m\u001b[0;34m(\u001b[0m\u001b[0mself\u001b[0m\u001b[0;34m)\u001b[0m\u001b[0;34m:\u001b[0m\u001b[0;34m\u001b[0m\u001b[0;34m\u001b[0m\u001b[0m\n\u001b[1;32m     56\u001b[0m         response = self._requester.request(\n\u001b[0;32m---> 57\u001b[0;31m             \u001b[0mself\u001b[0m\u001b[0;34m.\u001b[0m\u001b[0m_request_method\u001b[0m\u001b[0;34m,\u001b[0m \u001b[0mself\u001b[0m\u001b[0;34m.\u001b[0m\u001b[0m_next_url\u001b[0m\u001b[0;34m,\u001b[0m \u001b[0;34m**\u001b[0m\u001b[0mself\u001b[0m\u001b[0;34m.\u001b[0m\u001b[0m_next_params\u001b[0m\u001b[0;34m\u001b[0m\u001b[0;34m\u001b[0m\u001b[0m\n\u001b[0m\u001b[1;32m     58\u001b[0m         )\n\u001b[1;32m     59\u001b[0m         \u001b[0mdata\u001b[0m \u001b[0;34m=\u001b[0m \u001b[0mresponse\u001b[0m\u001b[0;34m.\u001b[0m\u001b[0mjson\u001b[0m\u001b[0;34m(\u001b[0m\u001b[0;34m)\u001b[0m\u001b[0;34m\u001b[0m\u001b[0;34m\u001b[0m\u001b[0m\n",
            "\u001b[0;32m/usr/local/lib/python3.7/dist-packages/canvasapi/requester.py\u001b[0m in \u001b[0;36mrequest\u001b[0;34m(self, method, endpoint, headers, use_auth, _url, _kwargs, json, **kwargs)\u001b[0m\n\u001b[1;32m    239\u001b[0m         \u001b[0;32melif\u001b[0m \u001b[0mresponse\u001b[0m\u001b[0;34m.\u001b[0m\u001b[0mstatus_code\u001b[0m \u001b[0;34m==\u001b[0m \u001b[0;36m401\u001b[0m\u001b[0;34m:\u001b[0m\u001b[0;34m\u001b[0m\u001b[0;34m\u001b[0m\u001b[0m\n\u001b[1;32m    240\u001b[0m             \u001b[0;32mif\u001b[0m \u001b[0;34m\"WWW-Authenticate\"\u001b[0m \u001b[0;32min\u001b[0m \u001b[0mresponse\u001b[0m\u001b[0;34m.\u001b[0m\u001b[0mheaders\u001b[0m\u001b[0;34m:\u001b[0m\u001b[0;34m\u001b[0m\u001b[0;34m\u001b[0m\u001b[0m\n\u001b[0;32m--> 241\u001b[0;31m                 \u001b[0;32mraise\u001b[0m \u001b[0mInvalidAccessToken\u001b[0m\u001b[0;34m(\u001b[0m\u001b[0mresponse\u001b[0m\u001b[0;34m.\u001b[0m\u001b[0mjson\u001b[0m\u001b[0;34m(\u001b[0m\u001b[0;34m)\u001b[0m\u001b[0;34m)\u001b[0m\u001b[0;34m\u001b[0m\u001b[0;34m\u001b[0m\u001b[0m\n\u001b[0m\u001b[1;32m    242\u001b[0m             \u001b[0;32melse\u001b[0m\u001b[0;34m:\u001b[0m\u001b[0;34m\u001b[0m\u001b[0;34m\u001b[0m\u001b[0m\n\u001b[1;32m    243\u001b[0m                 \u001b[0;32mraise\u001b[0m \u001b[0mUnauthorized\u001b[0m\u001b[0;34m(\u001b[0m\u001b[0mresponse\u001b[0m\u001b[0;34m.\u001b[0m\u001b[0mjson\u001b[0m\u001b[0;34m(\u001b[0m\u001b[0;34m)\u001b[0m\u001b[0;34m)\u001b[0m\u001b[0;34m\u001b[0m\u001b[0;34m\u001b[0m\u001b[0m\n",
            "\u001b[0;31mInvalidAccessToken\u001b[0m: [{'message': 'Invalid access token.'}]"
          ]
        }
      ]
    },
    {
      "cell_type": "code",
      "metadata": {
        "id": "ot_kzhB5Rzsy"
      },
      "source": [
        "#list to store the ID of all the classes\n",
        "courseIdList = []\n",
        "for course in courseList:\n",
        "#  print(course.id)\n",
        "  courseIdList.append(course.id)"
      ],
      "execution_count": null,
      "outputs": []
    },
    {
      "cell_type": "code",
      "metadata": {
        "id": "_NY_FnUdRzqO"
      },
      "source": [
        "# loop to iterate through the ID list and then return the name of the classes\n",
        "#for id in courseIdList:\n",
        "#  print(\"Course Name: \"+ str(canvas.get_course(id)))"
      ],
      "execution_count": null,
      "outputs": []
    },
    {
      "cell_type": "code",
      "metadata": {
        "id": "sDJttbvVRzm1"
      },
      "source": [
        "#assignments = courseList[0].get_assignments()\n",
        "#for assign in assignments:\n",
        "#  print(assign)"
      ],
      "execution_count": null,
      "outputs": []
    },
    {
      "cell_type": "code",
      "metadata": {
        "id": "-xpLxPrYRzgn"
      },
      "source": [
        "# this is a function to make the a data type with the course codes and the course assignment details\n",
        "# We store the assignment name\n",
        "# format of the datatype: \n",
        "# {\n",
        "#  course_code_1 : [assignment1, assignment2...]  \n",
        "#  course_code_2 : [assignment1, assignment2...]  \n",
        "#  course_code_3 : [assignment1, assignment2...]  \n",
        "# }\n",
        "\n",
        "def make_list_of_courses(courseIdList):\n",
        "  courses_dict = {}\n",
        "  for course in courseIdList:\n",
        "    try:\n",
        "        course_name = canvas.get_course(course).course_code\n",
        "        #print(course_name)\n",
        "        courses_dict[course_name] = {}\n",
        "        courses_dict[course_name][\"assignments\"] = []\n",
        "        courses_dict[course_name][\"code\"] = canvas.get_course(course).id\n",
        "        assignments_list = []\n",
        "        for assignment in canvas.get_course(course).get_assignments():\n",
        "        #print(assignment)\n",
        "            assignments_list.append(assignment.id)\n",
        "            courses_dict[course_name][\"assignments\"] = assignments_list\n",
        "    except:\n",
        "        continue\n",
        "  return courses_dict\n",
        "\n",
        "#make_list_of_courses(courseIdList)\n",
        "\n"
      ],
      "execution_count": null,
      "outputs": []
    },
    {
      "cell_type": "code",
      "metadata": {
        "id": "leq9lbvhRzZV"
      },
      "source": [
        "course_assigments = {}\n",
        "course_assignments = make_list_of_courses(courseIdList)"
      ],
      "execution_count": null,
      "outputs": []
    },
    {
      "cell_type": "code",
      "metadata": {
        "id": "lEDu6sQcR_tS"
      },
      "source": [
        "#this allows the program to take input from the user and check if the course exists\n",
        "\n",
        "search_for_course()"
      ],
      "execution_count": null,
      "outputs": []
    },
    {
      "cell_type": "code",
      "metadata": {
        "id": "PBo2JhX-R_qR"
      },
      "source": [
        "# this is a method to take input from the user and checks if the course code exists in the Canvas Dashboard\n",
        "# The method calls the 'checking_course' method that checks if the course exists\n",
        "def search_for_course():\n",
        "  course_code = input('Enter the code of the course: ')\n",
        "  print(f'You entered {course_code}')\n",
        "  print(f'Checking if {course_code} exists in your course list')\n",
        "  sleep(1)\n",
        "  checking_course(course_code)\n",
        "\n",
        "# additionally, we ask the user if they want to try another search or they want to exit the search function\n",
        "  print('Do you want to try another search?')\n",
        "  search = input('Enter y for another search and N to exit')\n",
        "  searching_loop_check(search)"
      ],
      "execution_count": null,
      "outputs": []
    },
    {
      "cell_type": "code",
      "metadata": {
        "id": "-I3Yik5DR_lm"
      },
      "source": [
        "# this method checks if the user wants to try another search or if they want to exit the search function\n",
        "# We check if the response is y or yes after converting it to lower case to handle exceptions\n",
        "# if response is yes, we call the search function again\n",
        "# if the response is no or n, we print a message \n",
        "# if response is neither yes or no, we prompt another message asking for a valid argument\n",
        "\n",
        "def searching_loop_check(response):\n",
        "  if response.lower() in ['y', 'yes']:\n",
        "    search_for_course()\n",
        "  elif response.lower() in ['n', 'no']:\n",
        "    print('You exited the search function')\n",
        "  else:\n",
        "    print('Please enter a valid argument')\n",
        "    search = input('Enter y for another search and N to exit')\n",
        "    searching_loop_check(search)\n",
        "    "
      ],
      "execution_count": null,
      "outputs": []
    },
    {
      "cell_type": "code",
      "metadata": {
        "id": "H-Ug8DDeSL0E"
      },
      "source": [
        "# this method uses try-except hanlding while checking if the course exists\n",
        "# we try to get the course from the course_code input \n",
        "# if we get a course object back from the Canvas API, we print that we found the course along with the course code\n",
        "# if we do not get a course back and get an error, it is handled by the except block that prints a message saying the class does not exist\n",
        "def checking_course(course_code_to_check):\n",
        "  try:\n",
        "    course_code = canvas.get_course(course_code_to_check)\n",
        "    print('The class associated with the code exists ')\n",
        "    print('The class is ' + str(course_code))\n",
        "  except:\n",
        "    print('The class code you enterred does not exist!')"
      ],
      "execution_count": null,
      "outputs": []
    },
    {
      "cell_type": "code",
      "metadata": {
        "id": "rJAaS1r7SLxP"
      },
      "source": [
        ""
      ],
      "execution_count": null,
      "outputs": []
    },
    {
      "cell_type": "code",
      "metadata": {
        "id": "IvwVgk1aSLu7"
      },
      "source": [
        "# This method allows the program to take input from the user and check if the assignment exists\n",
        "\n",
        "search_for_assignment()"
      ],
      "execution_count": null,
      "outputs": []
    },
    {
      "cell_type": "code",
      "metadata": {
        "id": "TMDfPX5i785C"
      },
      "source": [
        "# This method allows the user to check if an assignment exists\n",
        "\n",
        "\n",
        "def search_for_assignment():\n",
        "  assignment_search = input('Enter the cassignment you want to search for: ')\n",
        "  print(f'You entered {assignment_search}')\n",
        "  print(f'Checking if {assignment_search} exists in your assignment list')\n",
        "  sleep(1)\n",
        "  assignment_checking(assignment_search)\n",
        "\n",
        "# additionally, we ask the user if they want to try another search or they want to exit the search function\n",
        "  print('Do you want to try another search?')\n",
        "  search = input('Enter y for another search and N to exit')\n",
        "  assignment_loop_check(search)"
      ],
      "execution_count": null,
      "outputs": []
    },
    {
      "cell_type": "code",
      "metadata": {
        "id": "n4fZo4Ub782L"
      },
      "source": [
        "# First we make a list of the assignments from all the \n",
        "\n",
        "def assignment_checking(to_search):\n",
        "  list_of_assignments = make_list_of_courses(courseIdList)\n",
        "  found = False\n",
        "  \n",
        "  print(\"We found the following assignments with the similar name: \")\n",
        "  for courses in list_of_assignments.keys():\n",
        "    course_name = courses\n",
        "\n",
        "    \n",
        "    for assignment in list_of_assignments[course_name][\"assignments\"]:\n",
        "      course_code = list_of_assignments[course_name][\"code\"]\n",
        "      #print(course_name +\" \" + str(assignment)+ \" \"+ str(course_code))\n",
        "      if to_search.lower() in canvas.get_course(course_code).get_assignment(assignment).name.lower():      \n",
        "            print( course_name + \" \" + canvas.get_course(course_code).get_assignment(assignment).name)\n",
        "            found = True\n",
        "  if found is False:\n",
        "    print(\"Sorry we could not find the assignment!!\") \n",
        "  print(\"We found the assignments given above\")"
      ],
      "execution_count": null,
      "outputs": []
    },
    {
      "cell_type": "code",
      "metadata": {
        "id": "k_zZfAOL78x7"
      },
      "source": [
        "def assignment_loop_check(response):\n",
        "  if response.lower() in ['y', 'yes']:\n",
        "    search_for_assignment()\n",
        "  elif response.lower() in ['n', 'no']:\n",
        "    print('You exited the search for assignment function')\n",
        "  else:\n",
        "    print('Please enter a valid argument')\n",
        "    search = input('Enter y for another search and N to exit')\n",
        "    assignment_loop_check(search)"
      ],
      "execution_count": null,
      "outputs": []
    },
    {
      "cell_type": "code",
      "metadata": {
        "id": "fIQyXxWd78u2"
      },
      "source": [
        ""
      ],
      "execution_count": null,
      "outputs": []
    },
    {
      "cell_type": "code",
      "metadata": {
        "id": "9u6dT4cn78rX"
      },
      "source": [
        ""
      ],
      "execution_count": null,
      "outputs": []
    },
    {
      "cell_type": "code",
      "metadata": {
        "id": "XrgUH-gz78op",
        "colab": {
          "base_uri": "https://localhost:8080/"
        },
        "outputId": "c5648da5-5819-4669-ffc7-9006e49df70d"
      },
      "source": [
        "# This method allows us to search for assignments due in the next 7 days\n",
        "# This returns a list of assignments \n",
        "# upcoming_assignments is a dictionary that stores the courses along with the assignments that are due in the next 7 days\n",
        "# upcoming_deadlines is a list to store the assignment code and dates stores the date of the deadline\n",
        "def assignment_before_date():\n",
        "  courses_list = make_list_of_courses(courseIdList)\n",
        "  upcoming_assignments =  {}\n",
        "  for courses in courses_list.keys():\n",
        "    course_name = courses\n",
        "\n",
        "    #these are two lists, one that stores the assignment code and the other stores the date of the deadline\n",
        "    upcoming_deadlines = []\n",
        "    dates = []\n",
        "    for assignment in courses_list[course_name][\"assignments\"]:\n",
        "      course_code = courses_list[course_name][\"code\"]\n",
        "      \n",
        "      #try-except block to see handle errors and exceptions \n",
        "      try:\n",
        "        date_today = datetime.now().replace(tzinfo=utc)\n",
        "        date7days_from_now = date_today + timedelta(days = 7)\n",
        "        due_date_of_assignment = canvas.get_course(course_code).get_assignment(assignment).due_at_date\n",
        "       \n",
        "       #Checks if the due date of current assignment is between today and the 7th day\n",
        "        if ((due_date_of_assignment > date_today) and (due_date_of_assignment < date7days_from_now)):\n",
        "          upcoming_deadlines.append(assignment)\n",
        "          dates.append(due_date_of_assignment.date())\n",
        "      except:\n",
        "        continue\n",
        "\n",
        "    # if the list storing the upcoming deadlines is not empty, then we store the details in another list along with the assignment details and the date\n",
        "    if len(upcoming_deadlines) is not 0:  \n",
        "      upcoming_assignments[course_name] = upcoming_deadlines, dates\n",
        "  return upcoming_assignments\n",
        "print(assignment_before_date())"
      ],
      "execution_count": null,
      "outputs": [
        {
          "output_type": "stream",
          "name": "stdout",
          "text": [
            "{'ACCT 100': ([347541, 355573], [datetime.date(2021, 12, 5), datetime.date(2021, 12, 3)]), 'CSDS 132': ([359954, 377027, 378328, 378329, 378330], [datetime.date(2021, 12, 3), datetime.date(2021, 12, 6), datetime.date(2021, 12, 6), datetime.date(2021, 12, 6), datetime.date(2021, 12, 6)])}\n"
          ]
        }
      ]
    },
    {
      "cell_type": "code",
      "metadata": {
        "id": "lq69DQ4g8OoN"
      },
      "source": [
        ""
      ],
      "execution_count": null,
      "outputs": []
    },
    {
      "cell_type": "code",
      "metadata": {
        "id": "S6bMNItDSLsN",
        "colab": {
          "base_uri": "https://localhost:8080/"
        },
        "outputId": "fb3db5e8-006c-42b7-9283-ff6619cfbd15"
      },
      "source": [
        "list_off_assignments_this_week = assignment_before_date()\n",
        "print(list_off_assignments_this_week)"
      ],
      "execution_count": null,
      "outputs": [
        {
          "output_type": "stream",
          "name": "stdout",
          "text": [
            "{'ACCT 100': ([347541, 355573], [datetime.date(2021, 12, 5), datetime.date(2021, 12, 3)]), 'CSDS 132': ([359954, 377027, 378328, 378329, 378330], [datetime.date(2021, 12, 3), datetime.date(2021, 12, 6), datetime.date(2021, 12, 6), datetime.date(2021, 12, 6), datetime.date(2021, 12, 6)])}\n"
          ]
        }
      ]
    },
    {
      "cell_type": "code",
      "metadata": {
        "id": "w2UnrsFP8O_A",
        "colab": {
          "base_uri": "https://localhost:8080/",
          "height": 248
        },
        "outputId": "58b44c70-abc0-495b-e952-589ba71f6ed2"
      },
      "source": [
        "\n",
        "def plot_pychart(list_of_assigments):\n",
        "    # Pie chart, where the slices will be ordered and plotted counter-clockwise:\n",
        "    labels = []\n",
        "    sizes = []\n",
        "    for course in list_of_assigments:\n",
        "        labels.append(str(course))\n",
        "        sizes.append(len(list_of_assigments[course][0]))\n",
        "\n",
        "\n",
        "    #explode = (0, 0.1, 0, 0)  # only \"explode\" the 2nd slice (i.e. 'Hogs')\n",
        "\n",
        "    fig1, ax1 = plt.subplots()\n",
        "    ax1.pie(sizes, labels=labels, autopct='%1.1f%%',\n",
        "            shadow=True, startangle=90)\n",
        "    ax1.axis('equal')  # Equal aspect ratio ensures that pie is drawn as a circle.\n",
        "\n",
        "    plt.show()\n",
        "\n",
        "plot_pychart(list_off_assignments_this_week)"
      ],
      "execution_count": null,
      "outputs": [
        {
          "output_type": "display_data",
          "data": {
            "image/png": "[encoded data removed]",
            "text/plain": [
              "<Figure size 432x288 with 1 Axes>"
            ]
          },
          "metadata": {}
        }
      ]
    },
    {
      "cell_type": "code",
      "metadata": {
        "id": "5plR-oKi8TaD",
        "colab": {
          "base_uri": "https://localhost:8080/",
          "height": 492
        },
        "outputId": "8ae0c7fe-2e70-477f-b288-c88e07fb6e8d"
      },
      "source": [
        "import matplotlib.pyplot as plt; plt.rcdefaults()\n",
        "import matplotlib.pyplot as plt\n",
        "\n",
        "def plot_bar_chart(list_of_assignments):\n",
        "    list_dates = {}\n",
        "    for course in list_of_assignments:\n",
        "        for assignment in list_of_assignments[course][1]:\n",
        "            #print(assignment)\n",
        "            if assignment not in list_dates:\n",
        "                list_dates[assignment] = 0\n",
        "            list_dates[assignment] = list_dates[assignment] + 1\n",
        "            \n",
        "\n",
        "    #print(list_dates)\n",
        "    x = list_dates.keys()\n",
        "    y = list_dates.values()\n",
        "    plt.bar(x,y)\n",
        "    #plt.bar(list_dates.keys(), list_dates.values(), align='center', alpha=0.1, width = 0.4)\n",
        "    plt.ylabel('Number of assignments')\n",
        "    plt.title('Upcoming Days')\n",
        "    plt.xticks(rotation = 45)\n",
        "    plt.show()\n",
        "\n",
        "plot_bar_chart(list_off_assignments_this_week)"
      ],
      "execution_count": null,
      "outputs": [
        {
          "output_type": "display_data",
          "data": {
            "image/png": "[encoded data removed]",
            "text/plain": [
              "<Figure size 640x480 with 1 Axes>"
            ]
          },
          "metadata": {}
        }
      ]
    },
    {
      "cell_type": "code",
      "metadata": {
        "id": "AUutj6wg8TWc"
      },
      "source": [
        ""
      ],
      "execution_count": null,
      "outputs": []
    },
    {
      "cell_type": "code",
      "metadata": {
        "id": "cYSig1Ki8TTp"
      },
      "source": [
        ""
      ],
      "execution_count": null,
      "outputs": []
    }
  ]
}